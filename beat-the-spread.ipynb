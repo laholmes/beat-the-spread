{
 "cells": [
  {
   "cell_type": "markdown",
   "metadata": {},
   "source": [
    "Comparing the performance of FiveThirtyEight's 2017 season MLB predictions (https://projects.fivethirtyeight.com/2017-mlb-predictions/games/) against best execution prices across exchanges on UK sportsbooks."
   ]
  },
  {
   "cell_type": "code",
   "execution_count": 30,
   "metadata": {
    "collapsed": true
   },
   "outputs": [],
   "source": [
    "import pandas as pd\n",
    "import numpy as np\n",
    "import matplotlib.pyplot as plt\n",
    "from sklearn import metrics\n",
    "import seaborn as sns\n",
    "%matplotlib inline"
   ]
  },
  {
   "cell_type": "markdown",
   "metadata": {
    "collapsed": true
   },
   "source": [
    "### load data (result of pony.orm query on a MySql DB containing sportsbook prices from multiple exchanges, 538 predictions and game data from mlMLBb API)"
   ]
  },
  {
   "cell_type": "code",
   "execution_count": 31,
   "metadata": {
    "collapsed": true
   },
   "outputs": [],
   "source": [
    "data = pd.read_csv('./mlb.csv')"
   ]
  },
  {
   "cell_type": "markdown",
   "metadata": {},
   "source": [
    "### view schema"
   ]
  },
  {
   "cell_type": "code",
   "execution_count": 32,
   "metadata": {},
   "outputs": [
    {
     "data": {
      "text/html": [
       "<div>\n",
       "<style>\n",
       "    .dataframe thead tr:only-child th {\n",
       "        text-align: right;\n",
       "    }\n",
       "\n",
       "    .dataframe thead th {\n",
       "        text-align: left;\n",
       "    }\n",
       "\n",
       "    .dataframe tbody tr th {\n",
       "        vertical-align: top;\n",
       "    }\n",
       "</style>\n",
       "<table border=\"1\" class=\"dataframe\">\n",
       "  <thead>\n",
       "    <tr style=\"text-align: right;\">\n",
       "      <th></th>\n",
       "      <th>id</th>\n",
       "      <th>homeTeamId</th>\n",
       "      <th>awayTeamId</th>\n",
       "      <th>homeTeamRuns</th>\n",
       "      <th>awayTeamRuns</th>\n",
       "      <th>homeTeamWin</th>\n",
       "      <th>date</th>\n",
       "      <th>awayName</th>\n",
       "      <th>homeName</th>\n",
       "      <th>538home</th>\n",
       "      <th>538away</th>\n",
       "      <th>exchangeHomePrice</th>\n",
       "      <th>bestHomeExchangeId</th>\n",
       "      <th>exchangeAwayPrice</th>\n",
       "      <th>bestAwayExchangeId</th>\n",
       "    </tr>\n",
       "  </thead>\n",
       "  <tbody>\n",
       "    <tr>\n",
       "      <th>0</th>\n",
       "      <td>1</td>\n",
       "      <td>2</td>\n",
       "      <td>30</td>\n",
       "      <td>2.0</td>\n",
       "      <td>1.0</td>\n",
       "      <td>1.0</td>\n",
       "      <td>2017-04-17</td>\n",
       "      <td>Pittsburgh Pirates</td>\n",
       "      <td>St. Louis Cardinals</td>\n",
       "      <td>0.51</td>\n",
       "      <td>0.49</td>\n",
       "      <td>0.75</td>\n",
       "      <td>1</td>\n",
       "      <td>1.10</td>\n",
       "      <td>1.0</td>\n",
       "    </tr>\n",
       "    <tr>\n",
       "      <th>1</th>\n",
       "      <td>2</td>\n",
       "      <td>10</td>\n",
       "      <td>5</td>\n",
       "      <td>7.0</td>\n",
       "      <td>4.0</td>\n",
       "      <td>1.0</td>\n",
       "      <td>2017-04-17</td>\n",
       "      <td>Chicago White Sox</td>\n",
       "      <td>New York Yankees</td>\n",
       "      <td>0.56</td>\n",
       "      <td>0.44</td>\n",
       "      <td>0.62</td>\n",
       "      <td>1</td>\n",
       "      <td>1.35</td>\n",
       "      <td>1.0</td>\n",
       "    </tr>\n",
       "    <tr>\n",
       "      <th>2</th>\n",
       "      <td>3</td>\n",
       "      <td>25</td>\n",
       "      <td>17</td>\n",
       "      <td>5.0</td>\n",
       "      <td>4.0</td>\n",
       "      <td>1.0</td>\n",
       "      <td>2017-04-17</td>\n",
       "      <td>San Diego Padres</td>\n",
       "      <td>Atlanta Braves</td>\n",
       "      <td>0.55</td>\n",
       "      <td>0.45</td>\n",
       "      <td>0.62</td>\n",
       "      <td>1</td>\n",
       "      <td>1.38</td>\n",
       "      <td>1.0</td>\n",
       "    </tr>\n",
       "    <tr>\n",
       "      <th>3</th>\n",
       "      <td>4</td>\n",
       "      <td>1</td>\n",
       "      <td>3</td>\n",
       "      <td>3.0</td>\n",
       "      <td>6.0</td>\n",
       "      <td>0.0</td>\n",
       "      <td>2017-04-17</td>\n",
       "      <td>Milwaukee Brewers</td>\n",
       "      <td>Chicago Cubs</td>\n",
       "      <td>0.65</td>\n",
       "      <td>0.35</td>\n",
       "      <td>0.50</td>\n",
       "      <td>1</td>\n",
       "      <td>1.63</td>\n",
       "      <td>1.0</td>\n",
       "    </tr>\n",
       "    <tr>\n",
       "      <th>4</th>\n",
       "      <td>5</td>\n",
       "      <td>4</td>\n",
       "      <td>27</td>\n",
       "      <td>3.0</td>\n",
       "      <td>0.0</td>\n",
       "      <td>1.0</td>\n",
       "      <td>2017-04-17</td>\n",
       "      <td>Los Angeles Angels</td>\n",
       "      <td>Houston Astros</td>\n",
       "      <td>0.60</td>\n",
       "      <td>0.40</td>\n",
       "      <td>0.62</td>\n",
       "      <td>1</td>\n",
       "      <td>1.35</td>\n",
       "      <td>1.0</td>\n",
       "    </tr>\n",
       "  </tbody>\n",
       "</table>\n",
       "</div>"
      ],
      "text/plain": [
       "   id  homeTeamId  awayTeamId  homeTeamRuns  awayTeamRuns  homeTeamWin  \\\n",
       "0   1           2          30           2.0           1.0          1.0   \n",
       "1   2          10           5           7.0           4.0          1.0   \n",
       "2   3          25          17           5.0           4.0          1.0   \n",
       "3   4           1           3           3.0           6.0          0.0   \n",
       "4   5           4          27           3.0           0.0          1.0   \n",
       "\n",
       "         date            awayName             homeName  538home  538away  \\\n",
       "0  2017-04-17  Pittsburgh Pirates  St. Louis Cardinals     0.51     0.49   \n",
       "1  2017-04-17   Chicago White Sox     New York Yankees     0.56     0.44   \n",
       "2  2017-04-17    San Diego Padres       Atlanta Braves     0.55     0.45   \n",
       "3  2017-04-17   Milwaukee Brewers         Chicago Cubs     0.65     0.35   \n",
       "4  2017-04-17  Los Angeles Angels       Houston Astros     0.60     0.40   \n",
       "\n",
       "   exchangeHomePrice  bestHomeExchangeId  exchangeAwayPrice  \\\n",
       "0               0.75                   1               1.10   \n",
       "1               0.62                   1               1.35   \n",
       "2               0.62                   1               1.38   \n",
       "3               0.50                   1               1.63   \n",
       "4               0.62                   1               1.35   \n",
       "\n",
       "   bestAwayExchangeId  \n",
       "0                 1.0  \n",
       "1                 1.0  \n",
       "2                 1.0  \n",
       "3                 1.0  \n",
       "4                 1.0  "
      ]
     },
     "execution_count": 32,
     "metadata": {},
     "output_type": "execute_result"
    }
   ],
   "source": [
    "data.head()"
   ]
  },
  {
   "cell_type": "markdown",
   "metadata": {},
   "source": [
    "exchangeHomePrice, exchangeAwayPrice represent the best price (i.e. longest odds, \n",
    "or equivalently lowest predicted % win) across multiple exchanges.\n",
    "Prices were collected at 12pm on game day (so we're not considering bet timing below, or information risk which may exist if 538 predictions published before news which impacts the line)."
   ]
  },
  {
   "cell_type": "code",
   "execution_count": 33,
   "metadata": {},
   "outputs": [
    {
     "data": {
      "text/html": [
       "<div>\n",
       "<style>\n",
       "    .dataframe thead tr:only-child th {\n",
       "        text-align: right;\n",
       "    }\n",
       "\n",
       "    .dataframe thead th {\n",
       "        text-align: left;\n",
       "    }\n",
       "\n",
       "    .dataframe tbody tr th {\n",
       "        vertical-align: top;\n",
       "    }\n",
       "</style>\n",
       "<table border=\"1\" class=\"dataframe\">\n",
       "  <thead>\n",
       "    <tr style=\"text-align: right;\">\n",
       "      <th></th>\n",
       "      <th>id</th>\n",
       "      <th>homeTeamId</th>\n",
       "      <th>awayTeamId</th>\n",
       "      <th>homeTeamRuns</th>\n",
       "      <th>awayTeamRuns</th>\n",
       "      <th>homeTeamWin</th>\n",
       "      <th>538home</th>\n",
       "      <th>538away</th>\n",
       "      <th>exchangeHomePrice</th>\n",
       "      <th>bestHomeExchangeId</th>\n",
       "      <th>exchangeAwayPrice</th>\n",
       "      <th>bestAwayExchangeId</th>\n",
       "    </tr>\n",
       "  </thead>\n",
       "  <tbody>\n",
       "    <tr>\n",
       "      <th>count</th>\n",
       "      <td>1276.000000</td>\n",
       "      <td>1276.000000</td>\n",
       "      <td>1276.000000</td>\n",
       "      <td>1236.000000</td>\n",
       "      <td>1236.000000</td>\n",
       "      <td>1236.000000</td>\n",
       "      <td>1276.000000</td>\n",
       "      <td>1276.000000</td>\n",
       "      <td>1276.000000</td>\n",
       "      <td>1276.000000</td>\n",
       "      <td>1276.000000</td>\n",
       "      <td>1275.000000</td>\n",
       "    </tr>\n",
       "    <tr>\n",
       "      <th>mean</th>\n",
       "      <td>2780.189655</td>\n",
       "      <td>15.558777</td>\n",
       "      <td>15.396552</td>\n",
       "      <td>4.847896</td>\n",
       "      <td>4.614078</td>\n",
       "      <td>0.557443</td>\n",
       "      <td>0.525666</td>\n",
       "      <td>0.464929</td>\n",
       "      <td>0.865071</td>\n",
       "      <td>2.036050</td>\n",
       "      <td>1.114585</td>\n",
       "      <td>2.232941</td>\n",
       "    </tr>\n",
       "    <tr>\n",
       "      <th>std</th>\n",
       "      <td>1694.359308</td>\n",
       "      <td>8.637655</td>\n",
       "      <td>8.734037</td>\n",
       "      <td>3.231851</td>\n",
       "      <td>3.181540</td>\n",
       "      <td>0.496890</td>\n",
       "      <td>0.090797</td>\n",
       "      <td>0.087592</td>\n",
       "      <td>0.314879</td>\n",
       "      <td>0.565922</td>\n",
       "      <td>0.384961</td>\n",
       "      <td>0.826284</td>\n",
       "    </tr>\n",
       "    <tr>\n",
       "      <th>min</th>\n",
       "      <td>1.000000</td>\n",
       "      <td>1.000000</td>\n",
       "      <td>1.000000</td>\n",
       "      <td>0.000000</td>\n",
       "      <td>0.000000</td>\n",
       "      <td>0.000000</td>\n",
       "      <td>0.000000</td>\n",
       "      <td>0.000000</td>\n",
       "      <td>0.260000</td>\n",
       "      <td>1.000000</td>\n",
       "      <td>0.290000</td>\n",
       "      <td>1.000000</td>\n",
       "    </tr>\n",
       "    <tr>\n",
       "      <th>25%</th>\n",
       "      <td>344.750000</td>\n",
       "      <td>8.000000</td>\n",
       "      <td>8.000000</td>\n",
       "      <td>2.000000</td>\n",
       "      <td>2.000000</td>\n",
       "      <td>0.000000</td>\n",
       "      <td>0.480000</td>\n",
       "      <td>0.410000</td>\n",
       "      <td>0.650000</td>\n",
       "      <td>2.000000</td>\n",
       "      <td>0.830000</td>\n",
       "      <td>2.000000</td>\n",
       "    </tr>\n",
       "    <tr>\n",
       "      <th>50%</th>\n",
       "      <td>3644.500000</td>\n",
       "      <td>16.000000</td>\n",
       "      <td>15.000000</td>\n",
       "      <td>4.000000</td>\n",
       "      <td>4.000000</td>\n",
       "      <td>1.000000</td>\n",
       "      <td>0.530000</td>\n",
       "      <td>0.470000</td>\n",
       "      <td>0.800000</td>\n",
       "      <td>2.000000</td>\n",
       "      <td>1.050000</td>\n",
       "      <td>2.000000</td>\n",
       "    </tr>\n",
       "    <tr>\n",
       "      <th>75%</th>\n",
       "      <td>4030.250000</td>\n",
       "      <td>23.000000</td>\n",
       "      <td>23.000000</td>\n",
       "      <td>7.000000</td>\n",
       "      <td>6.000000</td>\n",
       "      <td>1.000000</td>\n",
       "      <td>0.580000</td>\n",
       "      <td>0.520000</td>\n",
       "      <td>1.000000</td>\n",
       "      <td>2.000000</td>\n",
       "      <td>1.350000</td>\n",
       "      <td>2.000000</td>\n",
       "    </tr>\n",
       "    <tr>\n",
       "      <th>max</th>\n",
       "      <td>4462.000000</td>\n",
       "      <td>30.000000</td>\n",
       "      <td>30.000000</td>\n",
       "      <td>20.000000</td>\n",
       "      <td>22.000000</td>\n",
       "      <td>1.000000</td>\n",
       "      <td>0.750000</td>\n",
       "      <td>0.700000</td>\n",
       "      <td>2.700000</td>\n",
       "      <td>4.000000</td>\n",
       "      <td>3.250000</td>\n",
       "      <td>4.000000</td>\n",
       "    </tr>\n",
       "  </tbody>\n",
       "</table>\n",
       "</div>"
      ],
      "text/plain": [
       "                id   homeTeamId   awayTeamId  homeTeamRuns  awayTeamRuns  \\\n",
       "count  1276.000000  1276.000000  1276.000000   1236.000000   1236.000000   \n",
       "mean   2780.189655    15.558777    15.396552      4.847896      4.614078   \n",
       "std    1694.359308     8.637655     8.734037      3.231851      3.181540   \n",
       "min       1.000000     1.000000     1.000000      0.000000      0.000000   \n",
       "25%     344.750000     8.000000     8.000000      2.000000      2.000000   \n",
       "50%    3644.500000    16.000000    15.000000      4.000000      4.000000   \n",
       "75%    4030.250000    23.000000    23.000000      7.000000      6.000000   \n",
       "max    4462.000000    30.000000    30.000000     20.000000     22.000000   \n",
       "\n",
       "       homeTeamWin      538home      538away  exchangeHomePrice  \\\n",
       "count  1236.000000  1276.000000  1276.000000        1276.000000   \n",
       "mean      0.557443     0.525666     0.464929           0.865071   \n",
       "std       0.496890     0.090797     0.087592           0.314879   \n",
       "min       0.000000     0.000000     0.000000           0.260000   \n",
       "25%       0.000000     0.480000     0.410000           0.650000   \n",
       "50%       1.000000     0.530000     0.470000           0.800000   \n",
       "75%       1.000000     0.580000     0.520000           1.000000   \n",
       "max       1.000000     0.750000     0.700000           2.700000   \n",
       "\n",
       "       bestHomeExchangeId  exchangeAwayPrice  bestAwayExchangeId  \n",
       "count         1276.000000        1276.000000         1275.000000  \n",
       "mean             2.036050           1.114585            2.232941  \n",
       "std              0.565922           0.384961            0.826284  \n",
       "min              1.000000           0.290000            1.000000  \n",
       "25%              2.000000           0.830000            2.000000  \n",
       "50%              2.000000           1.050000            2.000000  \n",
       "75%              2.000000           1.350000            2.000000  \n",
       "max              4.000000           3.250000            4.000000  "
      ]
     },
     "execution_count": 33,
     "metadata": {},
     "output_type": "execute_result"
    }
   ],
   "source": [
    "data.describe()"
   ]
  },
  {
   "cell_type": "markdown",
   "metadata": {},
   "source": [
    "### transformation utility methods"
   ]
  },
  {
   "cell_type": "code",
   "execution_count": 34,
   "metadata": {
    "collapsed": true
   },
   "outputs": [],
   "source": [
    "def convertDecimalOddsToPercent(decimalOdds): \n",
    "    return 1 / (1 + decimalOdds)\n",
    "\n",
    "def customRound(x, base=5):\n",
    "    return int(base * round(float(x) / base))"
   ]
  },
  {
   "cell_type": "code",
   "execution_count": 35,
   "metadata": {
    "collapsed": true
   },
   "outputs": [],
   "source": [
    "# need consistent price format\n",
    "data['exchangeHomePercent'] = convertDecimalOddsToPercent(data['exchangeHomePrice'])\n",
    "data['exchangeAwayPercent'] = convertDecimalOddsToPercent(data['exchangeAwayPrice'])"
   ]
  },
  {
   "cell_type": "code",
   "execution_count": 36,
   "metadata": {
    "collapsed": true
   },
   "outputs": [],
   "source": [
    "# check for missing results - count homeTeamWin < 528away in the above suggests some results are missing\n",
    "countMissingResults = len(data[data.homeTeamWin.notnull()])"
   ]
  },
  {
   "cell_type": "code",
   "execution_count": 37,
   "metadata": {},
   "outputs": [
    {
     "data": {
      "text/plain": [
       "1224"
      ]
     },
     "execution_count": 37,
     "metadata": {},
     "output_type": "execute_result"
    }
   ],
   "source": [
    "# remove missing results\n",
    "data = data[data['homeTeamWin'].notnull()]\n",
    "data = data[data['538home'] > 0]\n",
    "len(data)"
   ]
  },
  {
   "cell_type": "markdown",
   "metadata": {},
   "source": [
    "### visualise"
   ]
  },
  {
   "cell_type": "markdown",
   "metadata": {},
   "source": [
    "### average spread"
   ]
  },
  {
   "cell_type": "code",
   "execution_count": 38,
   "metadata": {
    "collapsed": true
   },
   "outputs": [],
   "source": [
    "data['spread'] = data['exchangeHomePercent'] + data['exchangeAwayPercent'] - 1\n",
    "# assume negative spread is an error. separate analysis for defining genuine arb opportunities\n",
    "data = data[data['spread'] > 0]"
   ]
  },
  {
   "cell_type": "code",
   "execution_count": 39,
   "metadata": {},
   "outputs": [
    {
     "data": {
      "text/plain": [
       "count    1217.000000\n",
       "mean        0.038148\n",
       "std         0.008296\n",
       "min         0.001462\n",
       "25%         0.032911\n",
       "50%         0.039341\n",
       "75%         0.044372\n",
       "max         0.083839\n",
       "Name: spread, dtype: float64"
      ]
     },
     "execution_count": 39,
     "metadata": {},
     "output_type": "execute_result"
    }
   ],
   "source": [
    "data['spread'].describe()"
   ]
  },
  {
   "cell_type": "code",
   "execution_count": 40,
   "metadata": {},
   "outputs": [
    {
     "data": {
      "text/plain": [
       "<matplotlib.axes._subplots.AxesSubplot at 0x1188f0dd8>"
      ]
     },
     "execution_count": 40,
     "metadata": {},
     "output_type": "execute_result"
    },
    {
     "data": {
      "image/png": "[encoded data removed]",
      "text/plain": [
       "<matplotlib.figure.Figure at 0x1187d9c50>"
      ]
     },
     "metadata": {},
     "output_type": "display_data"
    }
   ],
   "source": [
    "sns.distplot(data['spread'])"
   ]
  },
  {
   "cell_type": "markdown",
   "metadata": {},
   "source": [
    "### read prices for single sportsbook to assess improvement in spread achievable through sourcing best prices from multiple books"
   ]
  },
  {
   "cell_type": "code",
   "execution_count": 41,
   "metadata": {
    "collapsed": true
   },
   "outputs": [],
   "source": [
    "single_exchange = pd.read_csv('single_exchange.csv')"
   ]
  },
  {
   "cell_type": "code",
   "execution_count": 42,
   "metadata": {},
   "outputs": [
    {
     "data": {
      "text/html": [
       "<div>\n",
       "<style>\n",
       "    .dataframe thead tr:only-child th {\n",
       "        text-align: right;\n",
       "    }\n",
       "\n",
       "    .dataframe thead th {\n",
       "        text-align: left;\n",
       "    }\n",
       "\n",
       "    .dataframe tbody tr th {\n",
       "        vertical-align: top;\n",
       "    }\n",
       "</style>\n",
       "<table border=\"1\" class=\"dataframe\">\n",
       "  <thead>\n",
       "    <tr style=\"text-align: right;\">\n",
       "      <th></th>\n",
       "      <th>id</th>\n",
       "      <th>awayPrice</th>\n",
       "      <th>homePrice</th>\n",
       "      <th>exchangeId</th>\n",
       "      <th>gameId</th>\n",
       "    </tr>\n",
       "  </thead>\n",
       "  <tbody>\n",
       "    <tr>\n",
       "      <th>count</th>\n",
       "      <td>1266.000000</td>\n",
       "      <td>1266.000000</td>\n",
       "      <td>1266.000000</td>\n",
       "      <td>1266.0</td>\n",
       "      <td>1266.000000</td>\n",
       "    </tr>\n",
       "    <tr>\n",
       "      <th>mean</th>\n",
       "      <td>1637.394155</td>\n",
       "      <td>1.100158</td>\n",
       "      <td>0.865766</td>\n",
       "      <td>2.0</td>\n",
       "      <td>3002.075039</td>\n",
       "    </tr>\n",
       "    <tr>\n",
       "      <th>std</th>\n",
       "      <td>646.929435</td>\n",
       "      <td>0.378182</td>\n",
       "      <td>0.315359</td>\n",
       "      <td>0.0</td>\n",
       "      <td>1610.270703</td>\n",
       "    </tr>\n",
       "    <tr>\n",
       "      <th>min</th>\n",
       "      <td>576.000000</td>\n",
       "      <td>0.290000</td>\n",
       "      <td>0.260000</td>\n",
       "      <td>2.0</td>\n",
       "      <td>65.000000</td>\n",
       "    </tr>\n",
       "    <tr>\n",
       "      <th>25%</th>\n",
       "      <td>1223.250000</td>\n",
       "      <td>0.830000</td>\n",
       "      <td>0.650000</td>\n",
       "      <td>2.0</td>\n",
       "      <td>3336.250000</td>\n",
       "    </tr>\n",
       "    <tr>\n",
       "      <th>50%</th>\n",
       "      <td>1620.500000</td>\n",
       "      <td>1.050000</td>\n",
       "      <td>0.800000</td>\n",
       "      <td>2.0</td>\n",
       "      <td>3705.500000</td>\n",
       "    </tr>\n",
       "    <tr>\n",
       "      <th>75%</th>\n",
       "      <td>1959.750000</td>\n",
       "      <td>1.350000</td>\n",
       "      <td>1.000000</td>\n",
       "      <td>2.0</td>\n",
       "      <td>4090.750000</td>\n",
       "    </tr>\n",
       "    <tr>\n",
       "      <th>max</th>\n",
       "      <td>3034.000000</td>\n",
       "      <td>3.000000</td>\n",
       "      <td>2.700000</td>\n",
       "      <td>2.0</td>\n",
       "      <td>4544.000000</td>\n",
       "    </tr>\n",
       "  </tbody>\n",
       "</table>\n",
       "</div>"
      ],
      "text/plain": [
       "                id    awayPrice    homePrice  exchangeId       gameId\n",
       "count  1266.000000  1266.000000  1266.000000      1266.0  1266.000000\n",
       "mean   1637.394155     1.100158     0.865766         2.0  3002.075039\n",
       "std     646.929435     0.378182     0.315359         0.0  1610.270703\n",
       "min     576.000000     0.290000     0.260000         2.0    65.000000\n",
       "25%    1223.250000     0.830000     0.650000         2.0  3336.250000\n",
       "50%    1620.500000     1.050000     0.800000         2.0  3705.500000\n",
       "75%    1959.750000     1.350000     1.000000         2.0  4090.750000\n",
       "max    3034.000000     3.000000     2.700000         2.0  4544.000000"
      ]
     },
     "execution_count": 42,
     "metadata": {},
     "output_type": "execute_result"
    }
   ],
   "source": [
    "single_exchange.describe()"
   ]
  },
  {
   "cell_type": "code",
   "execution_count": 43,
   "metadata": {
    "collapsed": true
   },
   "outputs": [],
   "source": [
    "single_exchange['homePercent'] = convertDecimalOddsToPercent(single_exchange['homePrice'])\n",
    "single_exchange['awayPercent'] = convertDecimalOddsToPercent(single_exchange['awayPrice'])\n",
    "single_exchange['spread'] = single_exchange['homePercent'] + single_exchange['awayPercent'] - 1\n",
    "# assume negative spread is an error. separate analysis for defining genuine arb opportunities\n",
    "single_exchange = single_exchange[single_exchange['spread'] > 0]"
   ]
  },
  {
   "cell_type": "code",
   "execution_count": 44,
   "metadata": {},
   "outputs": [
    {
     "data": {
      "text/plain": [
       "<matplotlib.axes._subplots.AxesSubplot at 0x118992358>"
      ]
     },
     "execution_count": 44,
     "metadata": {},
     "output_type": "execute_result"
    },
    {
     "data": {
      "image/png": "[encoded data removed]",
      "text/plain": [
       "<matplotlib.figure.Figure at 0x118b13d30>"
      ]
     },
     "metadata": {},
     "output_type": "display_data"
    }
   ],
   "source": [
    "sns.distplot(single_exchange['spread'])"
   ]
  },
  {
   "cell_type": "code",
   "execution_count": 45,
   "metadata": {},
   "outputs": [
    {
     "data": {
      "text/plain": [
       "count    1264.000000\n",
       "mean        0.040672\n",
       "std         0.006675\n",
       "min         0.025641\n",
       "25%         0.036160\n",
       "50%         0.039829\n",
       "75%         0.046448\n",
       "max         0.083839\n",
       "Name: spread, dtype: float64"
      ]
     },
     "execution_count": 45,
     "metadata": {},
     "output_type": "execute_result"
    }
   ],
   "source": [
    "single_exchange['spread'].describe()"
   ]
  },
  {
   "cell_type": "markdown",
   "metadata": {},
   "source": [
    "Broadly a linear shift down 0.2% for this single exchange versus best execution. of course, best exchange price is never worse than that from any single exchange, though improved execution price will contribute to beating spread in addition to any delta in predictive power."
   ]
  },
  {
   "cell_type": "markdown",
   "metadata": {},
   "source": [
    "### dist of 538 home %"
   ]
  },
  {
   "cell_type": "code",
   "execution_count": 46,
   "metadata": {},
   "outputs": [
    {
     "data": {
      "text/plain": [
       "<matplotlib.axes._subplots.AxesSubplot at 0x10f5b8f60>"
      ]
     },
     "execution_count": 46,
     "metadata": {},
     "output_type": "execute_result"
    },
    {
     "data": {
      "image/png": "[encoded data removed]",
      "text/plain": [
       "<matplotlib.figure.Figure at 0x118c68588>"
      ]
     },
     "metadata": {},
     "output_type": "display_data"
    }
   ],
   "source": [
    "sns.distplot(data['538home'])"
   ]
  },
  {
   "cell_type": "code",
   "execution_count": 47,
   "metadata": {},
   "outputs": [
    {
     "data": {
      "text/plain": [
       "count    1217.000000\n",
       "mean        0.530575\n",
       "std         0.074808\n",
       "min         0.300000\n",
       "25%         0.480000\n",
       "50%         0.530000\n",
       "75%         0.580000\n",
       "max         0.750000\n",
       "Name: 538home, dtype: float64"
      ]
     },
     "execution_count": 47,
     "metadata": {},
     "output_type": "execute_result"
    }
   ],
   "source": [
    "data['538home'].describe()"
   ]
  },
  {
   "cell_type": "code",
   "execution_count": 48,
   "metadata": {},
   "outputs": [
    {
     "data": {
      "text/plain": [
       "0.07477711263495568"
      ]
     },
     "execution_count": 48,
     "metadata": {},
     "output_type": "execute_result"
    }
   ],
   "source": [
    "np.std(data['538home'])"
   ]
  },
  {
   "cell_type": "markdown",
   "metadata": {},
   "source": [
    "### dist of best exchange home %"
   ]
  },
  {
   "cell_type": "code",
   "execution_count": 49,
   "metadata": {},
   "outputs": [
    {
     "data": {
      "text/plain": [
       "<matplotlib.axes._subplots.AxesSubplot at 0x118d61c88>"
      ]
     },
     "execution_count": 49,
     "metadata": {},
     "output_type": "execute_result"
    },
    {
     "data": {
      "image/png": "[encoded data removed]",
      "text/plain": [
       "<matplotlib.figure.Figure at 0x118d7bb38>"
      ]
     },
     "metadata": {},
     "output_type": "display_data"
    }
   ],
   "source": [
    "sns.distplot(data['exchangeHomePercent'])"
   ]
  },
  {
   "cell_type": "code",
   "execution_count": 50,
   "metadata": {},
   "outputs": [
    {
     "data": {
      "text/plain": [
       "count    1217.000000\n",
       "mean        0.549657\n",
       "std         0.082263\n",
       "min         0.270270\n",
       "25%         0.500000\n",
       "50%         0.555556\n",
       "75%         0.606061\n",
       "max         0.793651\n",
       "Name: exchangeHomePercent, dtype: float64"
      ]
     },
     "execution_count": 50,
     "metadata": {},
     "output_type": "execute_result"
    }
   ],
   "source": [
    "data['exchangeHomePercent'].describe()"
   ]
  },
  {
   "cell_type": "code",
   "execution_count": 51,
   "metadata": {},
   "outputs": [
    {
     "data": {
      "text/plain": [
       "0.0822292926062244"
      ]
     },
     "execution_count": 51,
     "metadata": {},
     "output_type": "execute_result"
    }
   ],
   "source": [
    "np.std(data['exchangeHomePercent'])"
   ]
  },
  {
   "cell_type": "markdown",
   "metadata": {},
   "source": [
    "pretty similar, 538 dist a little tighter and favours home team slightly less. we don't see much edge here"
   ]
  },
  {
   "cell_type": "code",
   "execution_count": 52,
   "metadata": {
    "collapsed": true
   },
   "outputs": [],
   "source": [
    "### ROC curve for 538 predictions vs predictions implied by best exchange prices\n",
    "### where 'best prices' means lowest % prediction available across exchanges\n",
    "### how well does 538 perform against the best price prediction"
   ]
  },
  {
   "cell_type": "code",
   "execution_count": 53,
   "metadata": {},
   "outputs": [
    {
     "data": {
      "image/png": "[encoded data removed]",
      "text/plain": [
       "<matplotlib.figure.Figure at 0x11903de48>"
      ]
     },
     "metadata": {},
     "output_type": "display_data"
    }
   ],
   "source": [
    "Y = data['homeTeamWin']\n",
    "fpr = dict()\n",
    "tpr = dict()\n",
    "roc_auc = dict()\n",
    "\n",
    "fpr[0], tpr[0], _ = metrics.roc_curve(Y, data['exchangeHomePercent'])\n",
    "fpr[1], tpr[1], _ = metrics.roc_curve(Y, data['538home'])\n",
    "roc_auc[0] = metrics.auc(fpr[0], tpr[0])\n",
    "roc_auc[1] = metrics.auc(fpr[1], tpr[1])\n",
    "\n",
    "plt.figure()\n",
    "lw = 2\n",
    "plt.plot(fpr[0], tpr[0], color='darkorange',\n",
    "         lw=lw, label='best execution')\n",
    "plt.plot(fpr[1], tpr[1], color='purple',\n",
    "         lw=lw, label='538')\n",
    "plt.plot([0, 1], [0, 1], color='navy', lw=lw, linestyle='--')\n",
    "plt.xlim([0.0, 1.0])\n",
    "plt.ylim([0.0, 1.05])\n",
    "plt.xlabel('False Positive Rate')\n",
    "plt.ylabel('True Positive Rate')\n",
    "plt.title('Receiver operating characteristic for mlb predictions')\n",
    "plt.legend(loc=\"lower right\")\n",
    "plt.show()"
   ]
  },
  {
   "cell_type": "markdown",
   "metadata": {
    "collapsed": true
   },
   "source": [
    "538 isn't beating best execution for predictive power, according to ROC curve"
   ]
  },
  {
   "cell_type": "markdown",
   "metadata": {
    "collapsed": true
   },
   "source": [
    "### log loss"
   ]
  },
  {
   "cell_type": "code",
   "execution_count": 55,
   "metadata": {},
   "outputs": [],
   "source": [
    "log_loss_538 = metrics.log_loss(data.homeTeamWin, data['538home'])\n",
    "log_loss_exchange = metrics.log_loss(data.homeTeamWin, data['exchangeHomePercent'])"
   ]
  },
  {
   "cell_type": "markdown",
   "metadata": {},
   "source": [
    "log loss 538"
   ]
  },
  {
   "cell_type": "code",
   "execution_count": 56,
   "metadata": {},
   "outputs": [
    {
     "data": {
      "text/plain": [
       "0.68708566446024399"
      ]
     },
     "execution_count": 56,
     "metadata": {},
     "output_type": "execute_result"
    }
   ],
   "source": [
    "log_loss_538"
   ]
  },
  {
   "cell_type": "markdown",
   "metadata": {},
   "source": [
    "log loss exchange"
   ]
  },
  {
   "cell_type": "code",
   "execution_count": 57,
   "metadata": {},
   "outputs": [
    {
     "data": {
      "text/plain": [
       "0.68032970222197731"
      ]
     },
     "execution_count": 57,
     "metadata": {},
     "output_type": "execute_result"
    }
   ],
   "source": [
    "log_loss_exchange"
   ]
  },
  {
   "cell_type": "markdown",
   "metadata": {},
   "source": [
    "based on log loss numbers, accuracy of 538 and exchange prices are very similar. each introduces a similar amount of uncertainty when compared to using actual labels for results"
   ]
  },
  {
   "cell_type": "markdown",
   "metadata": {
    "collapsed": true
   },
   "source": [
    "### brier score log loss"
   ]
  },
  {
   "cell_type": "code",
   "execution_count": 58,
   "metadata": {
    "collapsed": true
   },
   "outputs": [],
   "source": [
    "brier_loss_538 = metrics.brier_score_loss(data.homeTeamWin, data['538home'])\n",
    "brier_loss_exchange = metrics.brier_score_loss(data.homeTeamWin, data['exchangeHomePercent'])"
   ]
  },
  {
   "cell_type": "markdown",
   "metadata": {},
   "source": [
    "brier loss 538"
   ]
  },
  {
   "cell_type": "code",
   "execution_count": 59,
   "metadata": {},
   "outputs": [
    {
     "data": {
      "text/plain": [
       "0.24701947411668038"
      ]
     },
     "execution_count": 59,
     "metadata": {},
     "output_type": "execute_result"
    }
   ],
   "source": [
    "brier_loss_538"
   ]
  },
  {
   "cell_type": "markdown",
   "metadata": {},
   "source": [
    "brier loss exchange"
   ]
  },
  {
   "cell_type": "code",
   "execution_count": 60,
   "metadata": {},
   "outputs": [
    {
     "data": {
      "text/plain": [
       "0.24365588063784707"
      ]
     },
     "execution_count": 60,
     "metadata": {},
     "output_type": "execute_result"
    }
   ],
   "source": [
    "brier_loss_exchange"
   ]
  },
  {
   "cell_type": "markdown",
   "metadata": {
    "collapsed": true
   },
   "source": [
    "best exchange price implied probability beats 538, so we're in trouble even before spread consideration"
   ]
  },
  {
   "cell_type": "markdown",
   "metadata": {
    "collapsed": true
   },
   "source": [
    "### betting strategy - 538 fractional kelly\n",
    "make a fractional kelly bet wherever 538 prediction implies edge >= edgeThreshold vs best exchange price for a particular team/game combination.\n",
    "Bankroll updates after each game and current bankroll is used for calculating betsizes pre-game"
   ]
  },
  {
   "cell_type": "code",
   "execution_count": 61,
   "metadata": {
    "collapsed": true
   },
   "outputs": [],
   "source": [
    "# MODEL PARAMETERISATION\n",
    "edgeThreshold = 0.04\n",
    "bankroll = 1000"
   ]
  },
  {
   "cell_type": "code",
   "execution_count": 62,
   "metadata": {},
   "outputs": [
    {
     "name": "stdout",
     "output_type": "stream",
     "text": [
      "generating fractional kelly returns... fraction: 0.2\n",
      "mean return:  -0.0003845851902649117\n",
      "std of returns:  0.009603521582409933\n",
      "generating fractional kelly returns... fraction: 0.3\n",
      "mean return:  -0.0005802122520141597\n",
      "std of returns:  0.01398846393544057\n"
     ]
    },
    {
     "data": {
      "image/png": "[encoded data removed]",
      "text/plain": [
       "<matplotlib.figure.Figure at 0x118efa438>"
      ]
     },
     "metadata": {},
     "output_type": "display_data"
    }
   ],
   "source": [
    "# data['exchangeHomePrice'] = data['exchangeHomePrice'] + 0.1\n",
    "# data['exchangeAwayPrice'] = data['exchangeAwayPrice'] + 0.1\n",
    "\n",
    "def kellyProportionHome(row, edgeThreshold):\n",
    "    if row['538home'] - edgeThreshold > row['exchangeHomePercent']:\n",
    "        return (row['538home'] * row['exchangeHomePrice'] - (1 - row['538home'])) / row['exchangeHomePrice'] \n",
    "    else:\n",
    "        return 0\n",
    "\n",
    "def kellyProportionAway(row, edgeThreshold):\n",
    "    if row['538away'] - edgeThreshold > row['exchangeAwayPercent']:\n",
    "        return (row['538away'] * row['exchangeAwayPrice'] - (1 - row['538away'])) / row['exchangeAwayPrice'] \n",
    "    else:\n",
    "        return 0\n",
    "\n",
    "def runBets(data, bankroll, kellyFraction):\n",
    "    for index, row in data.iterrows():\n",
    "        winnings = 0\n",
    "        betSize = 0\n",
    "        if row.kellyProportionHome > row.kellyProportionAway:\n",
    "            # home bet\n",
    "            betSize = customRound(min(row.kellyProportionHome * kellyFraction * bankroll, bankroll*0.05))\n",
    "            if row.homeTeamWin:\n",
    "                winnings = betSize * row.exchangeHomePrice\n",
    "            else: \n",
    "                winnings = -1 * betSize\n",
    "            data.loc[index, 'betTeam'] = 'home'\n",
    "        elif row.kellyProportionAway > 0:\n",
    "            # away bet\n",
    "            betSize = customRound(min(row.kellyProportionAway * kellyFraction * bankroll, bankroll*0.05))\n",
    "            if row.homeTeamWin == 0:\n",
    "                winnings = betSize * row.exchangeAwayPrice\n",
    "            else: \n",
    "                winnings = -1 * betSize\n",
    "            data.loc[index, 'betTeam'] = 'away'\n",
    "        data.loc[index, 'betSize'] = betSize\n",
    "        data.loc[index, 'winnings'] = winnings\n",
    "        data.loc[index, 'return'] = winnings / bankroll\n",
    "        bankroll = bankroll + winnings \n",
    "    return data\n",
    "\n",
    "\n",
    "data['kellyProportionHome'] = data.apply(lambda row: kellyProportionHome(row, edgeThreshold), axis=1)\n",
    "data['kellyProportionAway'] = data.apply(lambda row: kellyProportionAway(row, edgeThreshold), axis=1)\n",
    "\n",
    "for i in range(2,4, 1):\n",
    "    print('generating fractional kelly returns... fraction: ' + str(i/10))\n",
    "    temp_data = runBets(data, bankroll, i/10)\n",
    "    temp_data.to_csv('./' + str(i) + '_538.csv')\n",
    "    print('mean return: ', data['return'].mean())\n",
    "    print('std of returns: ', data['return'].std())\n",
    "    plt.plot(temp_data['winnings'].cumsum(), label='kelly' + str((i+0.5)/10))\n",
    "    \n",
    "plt.legend(loc='upper left')\n",
    "plt.show()"
   ]
  },
  {
   "cell_type": "markdown",
   "metadata": {
    "collapsed": true
   },
   "source": [
    "### betting strategy recent record\n",
    "make a fractional kelly bet wherever recent record (wins in last X) implies a win prob >= edgeThreshold vs best exchange price for a particular team/game combination "
   ]
  },
  {
   "cell_type": "code",
   "execution_count": 63,
   "metadata": {
    "collapsed": true
   },
   "outputs": [],
   "source": [
    "# MODEL PARAMETERISATION \n",
    "edgeThreshold = 0.04\n",
    "bankroll = 1000\n",
    "# kellyFraction = 0.5"
   ]
  },
  {
   "cell_type": "code",
   "execution_count": null,
   "metadata": {},
   "outputs": [
    {
     "name": "stdout",
     "output_type": "stream",
     "text": [
      "calculating recent records...\n",
      "calcs done...\n",
      "calculating bet sizes...\n"
     ]
    },
    {
     "name": "stderr",
     "output_type": "stream",
     "text": [
      "/Users/laurenceholmes/anaconda/lib/python3.6/site-packages/ipykernel_launcher.py:64: SettingWithCopyWarning: \n",
      "A value is trying to be set on a copy of a slice from a DataFrame.\n",
      "Try using .loc[row_indexer,col_indexer] = value instead\n",
      "\n",
      "See the caveats in the documentation: http://pandas.pydata.org/pandas-docs/stable/indexing.html#indexing-view-versus-copy\n",
      "/Users/laurenceholmes/anaconda/lib/python3.6/site-packages/ipykernel_launcher.py:65: SettingWithCopyWarning: \n",
      "A value is trying to be set on a copy of a slice from a DataFrame.\n",
      "Try using .loc[row_indexer,col_indexer] = value instead\n",
      "\n",
      "See the caveats in the documentation: http://pandas.pydata.org/pandas-docs/stable/indexing.html#indexing-view-versus-copy\n"
     ]
    },
    {
     "name": "stdout",
     "output_type": "stream",
     "text": [
      "running bets...\n",
      "generating fractional kelly returns... fraction: 0.1\n"
     ]
    },
    {
     "name": "stderr",
     "output_type": "stream",
     "text": [
      "/Users/laurenceholmes/anaconda/lib/python3.6/site-packages/pandas/core/indexing.py:517: SettingWithCopyWarning: \n",
      "A value is trying to be set on a copy of a slice from a DataFrame.\n",
      "Try using .loc[row_indexer,col_indexer] = value instead\n",
      "\n",
      "See the caveats in the documentation: http://pandas.pydata.org/pandas-docs/stable/indexing.html#indexing-view-versus-copy\n",
      "  self.obj[item] = s\n"
     ]
    }
   ],
   "source": [
    "def kellyProportionHome(row, edgeThreshold):\n",
    "    if row['homeProb'] - edgeThreshold > row['exchangeHomePercent']:\n",
    "        return (row['homeProb'] * row['exchangeHomePrice'] - (1 - row['homeProb'])) / row['exchangeHomePrice'] \n",
    "    else:\n",
    "        return 0\n",
    "\n",
    "def kellyProportionAway(row, edgeThreshold):\n",
    "    if row['awayProb'] - edgeThreshold > row['exchangeAwayPercent']:\n",
    "        return (row['awayProb'] * row['exchangeAwayPrice'] - (1 - row['awayProb'])) / row['exchangeAwayPrice'] \n",
    "    else:\n",
    "        return 0\n",
    "\n",
    "def runBets(data, bankroll, kellyFraction):\n",
    "    for index, row in data.iterrows():\n",
    "        winnings = 0\n",
    "        betSize = 0\n",
    "        if row.kellyProportionHome > 0:\n",
    "            betSize = row.kellyProportionHome * kellyFraction * bankroll\n",
    "            if row.homeTeamWin:\n",
    "                winnings = betSize * row.exchangeHomePrice\n",
    "            else: \n",
    "                winnings = -1 * betSize\n",
    "        if row.kellyProportionAway > 0:\n",
    "            betSize = row.kellyProportionAway * kellyFraction * bankroll\n",
    "            if row.homeTeamWin == 0:\n",
    "                winnings = betSize * row.exchangeAwayPrice\n",
    "            else: \n",
    "                winnings = -1 * betSize\n",
    "        \n",
    "        data.loc[index, 'winnings'] = winnings\n",
    "        data.loc[index, 'return'] = winnings / bankroll\n",
    "        bankroll = bankroll + winnings \n",
    "    return data\n",
    "\n",
    "# last 10 win/loss ratio\n",
    "\n",
    "def homeWinsInLast10(row):\n",
    "    previousGames = data[((data['awayTeamId'] == row['homeTeamId']) | (data['homeTeamId'] == row['homeTeamId'])) \n",
    "        & (data['id'] < row['id'])].tail(10)\n",
    "    wins = previousGames[((previousGames['homeTeamId'] == row['homeTeamId']) & (previousGames['homeTeamWin'] == 1)) |\n",
    "                        ((previousGames['awayTeamId'] == row['homeTeamId']) & (previousGames['homeTeamWin'] == 0))]\n",
    "    return len(wins.index) / 10\n",
    "\n",
    "def awayWinsInLast10(row):\n",
    "    previousGames = data[((data['awayTeamId'] == row['awayTeamId']) | (data['homeTeamId'] == row['awayTeamId'])) \n",
    "        & (data['id'] < row['id'])].tail(10)\n",
    "    wins = previousGames[((previousGames['homeTeamId'] == row['awayTeamId']) & (previousGames['homeTeamWin'] == 1)) |\n",
    "                        ((previousGames['awayTeamId'] == row['awayTeamId']) & (previousGames['homeTeamWin'] == 0))]\n",
    "    return len(wins.index) / 10\n",
    "\n",
    "print('calculating recent records...')\n",
    "data['homeWinsInLast10'] = data.apply(homeWinsInLast10, axis=1)\n",
    "data['awayWinsInLast10'] = data.apply(awayWinsInLast10, axis=1)\n",
    "print('calcs done...')\n",
    "\n",
    "# home power is share of total last 10 wins\n",
    "data['homeProb'] = data['homeWinsInLast10'] / (data['homeWinsInLast10'] + data['awayWinsInLast10']) + 0.1\n",
    "data['awayProb'] = data['awayWinsInLast10'] / (data['homeWinsInLast10'] + data['awayWinsInLast10']) - 0.1\n",
    "\n",
    "# ignore first 10 rows\n",
    "data = data[10:]\n",
    "\n",
    "print('calculating bet sizes...')\n",
    "data['kellyProportionHome'] = data.apply(lambda row: kellyProportionHome(row, edgeThreshold), axis=1)\n",
    "data['kellyProportionAway'] = data.apply(lambda row: kellyProportionAway(row, edgeThreshold), axis=1)\n",
    "\n",
    "print('running bets...')\n",
    "# running bets for kellyFraction = 0.1,...,1\n",
    "for i in range(1,10, 1):\n",
    "    print('generating fractional kelly returns... fraction: ' + str(i/10))\n",
    "    temp_data = runBets(data, bankroll, i/10)\n",
    "    print('mean: ', data['return'].mean())\n",
    "    print('stdev: ', data['return'].std())\n",
    "    plt.plot(temp_data['winnings'].cumsum(), label='kelly' + str(i/10))\n",
    "\n",
    "# data.to_csv('./538strat.csv')\n",
    "print('all bets ran...')\n",
    "\n",
    "print('visualizing...')\n",
    "plt.legend(loc='upper right')\n",
    "plt.show()"
   ]
  },
  {
   "cell_type": "code",
   "execution_count": null,
   "metadata": {
    "collapsed": true
   },
   "outputs": [],
   "source": []
  }
 ],
 "metadata": {
  "kernelspec": {
   "display_name": "Python 3",
   "language": "python",
   "name": "python3"
  },
  "language_info": {
   "codemirror_mode": {
    "name": "ipython",
    "version": 3
   },
   "file_extension": ".py",
   "mimetype": "text/x-python",
   "name": "python",
   "nbconvert_exporter": "python",
   "pygments_lexer": "ipython3",
   "version": "3.6.1"
  }
 },
 "nbformat": 4,
 "nbformat_minor": 2
}
